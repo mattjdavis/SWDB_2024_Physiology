{
 "cells": [
  {
   "cell_type": "code",
   "execution_count": null,
   "metadata": {},
   "outputs": [],
   "source": [
    "cell_index = 0\n",
    "y = cell_mean_traces[cell_index]\n",
    "\n",
    "score, models, scores, _ = crossValidateLinearModel(X, y)\n",
    "print(f\"Score: {scores}\")"
   ]
  },
  {
   "cell_type": "code",
   "execution_count": null,
   "metadata": {},
   "outputs": [],
   "source": [
    "# plot reconstruction\n",
    "reconstruction = np.zeros_like(y)\n",
    "for model in models:\n",
    "    reconstruction += model.predict(X)\n",
    "    score += model.score(X, y)\n",
    "reconstruction /= len(models)\n",
    "score /= len(models)\n",
    "\n",
    "plt.figure(figsize=(10, 5))\n",
    "plt.plot(y, label='True')\n",
    "plt.plot(reconstruction, label='Reconstruction')\n",
    "plt.legend()\n",
    "plt.title(f'Reconstruction of cell {cell_index}, score: {score:.2f}')"
   ]
  },
  {
   "cell_type": "markdown",
   "metadata": {},
   "source": [
    "<div style=\"background: #DFF0D8; border-radius: 3px; padding: 10px;\">\n",
    "<p>\n",
    "\n",
    "**(3a) Create stimulus matrix X with 4 features. Use MinMaxScaler() to normalize.**"
   ]
  }
 ],
 "metadata": {
  "language_info": {
   "name": "python"
  }
 },
 "nbformat": 4,
 "nbformat_minor": 2
}
